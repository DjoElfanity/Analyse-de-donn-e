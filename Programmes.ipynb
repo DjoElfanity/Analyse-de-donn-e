{
  "cells": [
    {
      "cell_type": "code",
      "execution_count": 1,
      "metadata": {
        "id": "hNiRn9WeRQQn"
      },
      "outputs": [
        {
          "name": "stdout",
          "output_type": "stream",
          "text": [
            "Programme de CAH\n"
          ]
        },
        {
          "data": {
            "text/plain": [
              "<matplotlib.collections.PathCollection at 0x1ab707fad60>"
            ]
          },
          "execution_count": 1,
          "metadata": {},
          "output_type": "execute_result"
        },
        {
          "data": {
            "image/png": "[encoded data removed]",
            "text/plain": [
              "<Figure size 1000x700 with 1 Axes>"
            ]
          },
          "metadata": {},
          "output_type": "display_data"
        }
      ],
      "source": [
        "###                  PROGRAMMES  \n",
        "import pandas as pd\n",
        "import numpy as np\n",
        "import matplotlib.pyplot as plt\n",
        "from sklearn.preprocessing import normalize\n",
        "import scipy.cluster.hierarchy as shc\n",
        "from sklearn.cluster import AgglomerativeClustering\n",
        "print(\"Programme de CAH\")\n",
        "%matplotlib inline\n",
        "data = pd.read_csv((\"iris.csv\"), names=['sepal length',\n",
        "'sepal width','petal length','petal width'], \n",
        "usecols=['sepal length','sepal width','petal length',\n",
        "         'petal width'])\n",
        "\n",
        "data_scaled = normalize(data)\n",
        "data_scaled = pd.DataFrame(data_scaled, columns=data.columns)\n",
        "data_scaled.head()\n",
        "plt.figure(figsize=(10, 7))  \n",
        "plt.title(\"Dendrograms\")  \n",
        "dend = shc.dendrogram(shc.linkage(data_scaled, method='ward'))\n",
        "plt.figure(figsize=(10, 7))  \n",
        "plt.title(\"Dendrograms\")  \n",
        "dend = shc.dendrogram(shc.linkage(data_scaled, method='ward'))\n",
        "plt.axhline(y=6, color='r', linestyle='--')\n",
        "cluster = AgglomerativeClustering(n_clusters=2, affinity='euclidean', linkage='ward')  \n",
        "cluster.fit_predict(data_scaled)\n",
        "plt.figure(figsize=(10, 7))  \n",
        "plt.scatter(data_scaled['sepal length'], data_scaled['sepal width'], c=cluster.labels_) \n"
      ]
    },
    {
      "cell_type": "code",
      "execution_count": null,
      "metadata": {
        "id": "XtlrPOvOUgCH"
      },
      "outputs": [],
      "source": [
        "import numpy as np\n",
        "%pip install seaborn\n",
        "import pandas as pd\n",
        "import seaborn as sb\n",
        "import matplotlib.pyplot as plt\n",
        "\n",
        "import numpy as np\n",
        "print(\"Programme de CPA\")\n",
        " \n",
        "def PCA(X , num_components):\n",
        "     \n",
        "    #Etape- numero 1\n",
        "    X_meaned = X - np.mean(X , axis = 0)\n",
        "     \n",
        "    #Etape- numero 2\n",
        "    cov_mat = np.cov(X_meaned , rowvar = False)\n",
        "     \n",
        "    #Etape- numero 3\n",
        "    eigen_values , eigen_vectors = np.linalg.eigh(cov_mat)\n",
        "     \n",
        "    #Etape- numero 4\n",
        "    sorted_index = np.argsort(eigen_values)[::-1]\n",
        "    sorted_eigenvalue = eigen_values[sorted_index]\n",
        "    sorted_eigenvectors = eigen_vectors[:,sorted_index]\n",
        "     \n",
        "    #Etape- numero 5\n",
        "    eigenvector_subset = sorted_eigenvectors[:,0:num_components]\n",
        "     \n",
        "    #Etape- numero 6\n",
        "    X_reduced = np.dot(eigenvector_subset.transpose() , X_meaned.transpose() ).transpose()\n",
        "     \n",
        "    return X_reduced\n",
        "\n",
        "   \n",
        "data = pd.read_csv((\"iris.csv\"), names=['sepal length','sepal width','petal length','petal width','target'])\n",
        "x = data.iloc[:,0:4]\n",
        "#prepare the target\n",
        "target = data.iloc[:,4]\n",
        " \n",
        "#Applying it to PCA function\n",
        "mat_reduced = PCA(x , 2)\n",
        "#Creating a Pandas DataFrame of reduced Dataset\n",
        "principal_df = pd.DataFrame(mat_reduced , columns = ['PC1','PC2'])\n",
        "\n",
        "print(principal_df)\n",
        " \n",
        "#Concat it with target variable to create a complete Dataset\n",
        "principal_df = pd.concat([principal_df , pd.DataFrame(target)] , axis = 1)\n",
        "plt.figure(figsize = (6,6))\n",
        "sb.scatterplot(data = principal_df , x = 'PC1',y = 'PC2' , hue = 'target' , s = 60 , palette= 'icefire')\n",
        "plt.show()"
      ]
    },
    {
      "cell_type": "code",
      "execution_count": null,
      "metadata": {
        "id": "Wk6m4BEWUsLX"
      },
      "outputs": [],
      "source": [
        "import pandas as pd\n",
        "from sklearn.cluster import KMeans\n",
        "import matplotlib.pyplot as plt\n",
        "print(\"Programme de  Kmeans\")\n",
        "\n",
        "# Chargement des données à partir d'un fichier CSV\n",
        "df = pd.read_csv((\"iris.csv\"), names=['sepal length','sepal width','petal length',\n",
        "                                        \n",
        "            'petal width', 'target'], usecols=['sepal length','sepal width',\n",
        "                                                                 'target',])\n",
        "\n",
        "# Sélection des colonnes à utiliser pour le clustering\n",
        "X = df[['sepal length', 'sepal width']]\n",
        "\n",
        "# Entraînement de l'algorithme sur les données\n",
        "kmeans = KMeans(n_clusters=4).fit(X)\n",
        "\n",
        "# Ajout de la colonne des labels de cluster au dataframe\n",
        "df['target'] = kmeans.labels_\n",
        "\n",
        "# Visualisation des données en utilisant une projection en 2D\n",
        "plt.scatter(df['sepal length'], df['sepal width'], c=df['target'], cmap='viridis')\n",
        "plt.xlabel('sepal length')\n",
        "plt.ylabel('sepal width')\n",
        "plt.show()\n"
      ]
    },
    {
      "cell_type": "code",
      "execution_count": null,
      "metadata": {
        "id": "UuHvXPjOU5AN"
      },
      "outputs": [],
      "source": [
        "import pandas as pd\n",
        "import matplotlib.pyplot as plt\n",
        "from scipy import stats\n",
        "import numpy as np\n",
        "import statsmodels.api as sm\n",
        "print(\"Programme de  regression linéaire\")\n",
        "def predict(x):\n",
        "    return slope * x + intercept\n",
        "data = pd.read_csv((\"iris.csv\"), names=['sepal length','sepal width','petal length',\n",
        "                                        \n",
        "            'petal width', 'target'], usecols=['sepal length','sepal width'])\n",
        "X =  df.iloc[0:len(df),0] #selection de la première colonne de notre dataset\n",
        "Y =  df.iloc[0:len(df),1]\n",
        "axes = plt.axes()\n",
        "axes.grid()\n",
        "plt.scatter(X,Y)\n",
        "slope, intercept, r_value, p_value, std_err = stats.linregress(X, Y)\n",
        "fitLine = predict(X)\n",
        "plt.plot(X, fitLine, c='r')\n",
        "plt.show()\n",
        "\n"
      ]
    },
    {
      "cell_type": "code",
      "execution_count": null,
      "metadata": {
        "id": "kq0dhxyKU_0A"
      },
      "outputs": [],
      "source": [
        "import pandas as pd\n",
        "from statsmodels.formula.api import ols\n",
        "import statsmodels.api as sm\n",
        "print(\"fProgramme d' anova\")\n",
        "data= pd.read_csv(('iris.csv'), names=['sepal_length','sepal_width','petal_length',\n",
        "                                        \n",
        "            'petal_width', 'target'])\n",
        "data.head()\n",
        "\n",
        "mod = ols('sepal_length ~ target',\n",
        "                data=data).fit()\n",
        "                \n",
        "aov_table = sm.stats.anova_lm(mod, typ=2)\n",
        "print(aov_table)\n",
        "pair_t = mod.t_test_pairwise('target')\n",
        "pair_t.result_frame"
      ]
    },
    {
      "cell_type": "code",
      "execution_count": null,
      "metadata": {
        "id": "BsbVOnTLnkAH"
      },
      "outputs": [],
      "source": [
        "import numpy as np\n",
        "import pandas as pd\n",
        "import matplotlib.pyplot as plt\n",
        " \n",
        "# Importing Sklearn module and classes\n",
        "from sklearn.linear_model import LogisticRegression\n",
        "from sklearn.preprocessing import StandardScaler\n",
        "from sklearn import metrics\n",
        "from sklearn import datasets\n",
        "from sklearn.model_selection import train_test_split\n",
        "print(\"Programme de regression logistique\")\n",
        "iris = datasets.load_iris()\n",
        "X = iris.data[:, [0, 2]]\n",
        "Y = iris.target\n",
        "X_train, X_test, Y_train, Y_test = train_test_split(X, Y, test_size=0.3, random_state=1, stratify=Y)\n",
        "sc = StandardScaler()\n",
        "sc.fit(X_train)\n",
        "X_train_std = sc.transform(X_train)\n",
        "X_test_std = sc.transform(X_test)\n",
        "\t\n",
        "# Create an instance of LogisticRegression classifier\n",
        "lr = LogisticRegression(C=100.0, random_state=1, solver='lbfgs', multi_class='ovr')\n",
        " \n",
        "# Fit the model\n",
        "#\n",
        "lr.fit(X_train_std, Y_train)\n",
        "\n",
        "# Create the predictions\n",
        "#\n",
        "Y_predict = lr.predict(X_test_std)\n",
        " \n",
        "# Use metrics.accuracy_score to measure the score\n",
        "print(\"Précision :  %.3f\" %metrics.accuracy_score(Y_test, Y_predict))\n",
        "\n",
        "\n"
      ]
    }
  ],
  "metadata": {
    "colab": {
      "provenance": [],
      "toc_visible": true
    },
    "kernelspec": {
      "display_name": "Python 3",
      "name": "python3"
    },
    "language_info": {
      "codemirror_mode": {
        "name": "ipython",
        "version": 3
      },
      "file_extension": ".py",
      "mimetype": "text/x-python",
      "name": "python",
      "nbconvert_exporter": "python",
      "pygments_lexer": "ipython3",
      "version": "3.9.13"
    }
  },
  "nbformat": 4,
  "nbformat_minor": 0
}
